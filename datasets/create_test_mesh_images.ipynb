{
 "cells": [
  {
   "cell_type": "markdown",
   "metadata": {},
   "source": [
    "## Declare constants"
   ]
  },
  {
   "cell_type": "code",
   "execution_count": 1,
   "metadata": {
    "vscode": {
     "languageId": "plaintext"
    }
   },
   "outputs": [],
   "source": [
    "capture_name = 'obama_interview'\n",
    "LAPLACIAN_THRESHOLD = 20\n",
    "target_frames_per_video = 30\n",
    "flip = False"
   ]
  },
  {
   "cell_type": "code",
   "execution_count": 2,
   "metadata": {
    "vscode": {
     "languageId": "plaintext"
    }
   },
   "outputs": [],
   "source": [
    "import os\n",
    "root_dir = os.path.join('./test_reenact',capture_name)\n",
    "video_path = os.path.join(root_dir, 'video.mp4')\n",
    "rgb_dir = os.path.join(root_dir, 'rgb')"
   ]
  },
  {
   "cell_type": "markdown",
   "metadata": {},
   "source": [
    "## Flatten into images and remove blurry images"
   ]
  },
  {
   "cell_type": "code",
   "execution_count": 3,
   "metadata": {
    "vscode": {
     "languageId": "plaintext"
    }
   },
   "outputs": [],
   "source": [
    "import cv2\n",
    "import os\n",
    "def flatten_video(video_path, rgb_dir, target_frames_per_video):\n",
    "    # Create directories\n",
    "    if not os.path.exists(rgb_dir):\n",
    "        os.makedirs(rgb_dir)\n",
    "    print('Flattening {} to {}'.format(video_path, rgb_dir))\n",
    "    cap = cv2.VideoCapture(str(video_path))\n",
    "    input_fps = cap.get(cv2.CAP_PROP_FPS)\n",
    "    frame_count = int(cap.get(cv2.CAP_PROP_FRAME_COUNT))\n",
    "    if frame_count < target_frames_per_video:\n",
    "        raise RuntimeError('The video is too short and has fewer frames than the target.')\n",
    "    # hyper-parameters\n",
    "    success,image = cap.read()\n",
    "    count = 0\n",
    "    skip = round(frame_count / target_frames_per_video)\n",
    "    skip_count = 0\n",
    "    print('Input FPS: {}'.format(input_fps))\n",
    "    print('Frame count: {}'.format(frame_count))\n",
    "    print('Skip: {}'.format(skip))\n",
    "    blurry_count = 0\n",
    "    while success:\n",
    "        # get frame from video\n",
    "        success,image = cap.read()\n",
    "        if not success:\n",
    "            break\n",
    "        if skip_count < skip:\n",
    "            skip_count += 1\n",
    "            continue\n",
    "        skip_count = 0\n",
    "        if cv2.Laplacian(image, cv2.CV_64F).var() < LAPLACIAN_THRESHOLD: # check if image is blurry, if so, skip this frame\n",
    "            blurry_count += 1\n",
    "            continue\n",
    "        if flip:\n",
    "            image = cv2.flip(image, -1)\n",
    "        cv2.imwrite(os.path.join(rgb_dir,f\"{count:06d}.png\"),image)\n",
    "        count += 1\n",
    "    print('Failed to read a frame, current count =', count)\n",
    "    print('Blurry count: {}'.format(blurry_count))\n"
   ]
  },
  {
   "cell_type": "code",
   "execution_count": 4,
   "metadata": {
    "vscode": {
     "languageId": "plaintext"
    }
   },
   "outputs": [
    {
     "name": "stdout",
     "output_type": "stream",
     "text": [
      "Flattening ./test_reenact/obama_interview/video.mp4 to ./test_reenact/obama_interview/rgb\n",
      "Input FPS: 29.97002997002997\n",
      "Frame count: 460\n",
      "Skip: 15\n",
      "Failed to read a frame, current count = 28\n",
      "Blurry count: 0\n"
     ]
    }
   ],
   "source": [
    "# process three videos\n",
    "flatten_video(video_path, rgb_dir, target_frames_per_video)"
   ]
  },
  {
   "cell_type": "code",
   "execution_count": null,
   "metadata": {},
   "outputs": [],
   "source": []
  }
 ],
 "metadata": {
  "kernelspec": {
   "display_name": "Python 3 (ipykernel)",
   "language": "python",
   "name": "python3"
  },
  "language_info": {
   "codemirror_mode": {
    "name": "ipython",
    "version": 3
   },
   "file_extension": ".py",
   "mimetype": "text/x-python",
   "name": "python",
   "nbconvert_exporter": "python",
   "pygments_lexer": "ipython3",
   "version": "3.9.7"
  }
 },
 "nbformat": 4,
 "nbformat_minor": 2
}
