{
 "cells": [
  {
   "cell_type": "markdown",
   "id": "7cdf1a27",
   "metadata": {},
   "source": [
    "# Generate the mesh2tex correspondence dict\n"
   ]
  },
  {
   "cell_type": "code",
   "execution_count": 2,
   "id": "5be6dcdc",
   "metadata": {},
   "outputs": [],
   "source": [
    "import os\n",
    "import random\n",
    "import numpy as np\n",
    "from matplotlib import pyplot as plt\n",
    "%matplotlib inline\n",
    "import cv2\n",
    "import plotly.graph_objs as go\n",
    "from collections import defaultdict"
   ]
  },
  {
   "cell_type": "code",
   "execution_count": 3,
   "id": "c6ba7b59",
   "metadata": {},
   "outputs": [],
   "source": [
    "root_dir = \"./kuoyuan_home_glass\"\n",
    "deca_deform_path = os.path.join(root_dir, \"deca_deform_out\")\n",
    "sample_id = 'p1_000000'\n",
    "random_check = True"
   ]
  },
  {
   "cell_type": "code",
   "execution_count": 5,
   "id": "fd85e5e9",
   "metadata": {},
   "outputs": [
    {
     "name": "stdout",
     "output_type": "stream",
     "text": [
      "face length: 29928\n"
     ]
    }
   ],
   "source": [
    "texture_img = cv2.imread(os.path.join(deca_deform_path,f'{sample_id}/{sample_id}.png'))\n",
    "# load mesh\n",
    "def read_obj(filename):\n",
    "    v, vt,f = [], [], []\n",
    "    for content in open(filename): # readline\n",
    "        contents = content.strip().split(' ')\n",
    "        if contents[0] == 'vt':\n",
    "            vt.append([float(a) for a in contents[1:]])\n",
    "        if contents[0] == 'v':\n",
    "            v.append([float(a) for a in contents[1:]])\n",
    "        if contents[0] == 'f':\n",
    "            f.append([[int(a.split('/')[0])-1,int(a.split('/')[1])-1] for a in contents[1:] if a])\n",
    "        \n",
    "    return np.array(v, dtype='float64'),np.array(vt, dtype='float64'),np.array(f, dtype='int32').reshape(-1,2)\n",
    "v, vt,f = read_obj(os.path.join(deca_deform_path,f'{sample_id}/{sample_id}.obj'))\n",
    "print(\"face length:\",len(f))"
   ]
  },
  {
   "cell_type": "code",
   "execution_count": null,
   "id": "b6c13070",
   "metadata": {},
   "outputs": [],
   "source": [
    "f_dict_one = defaultdict()\n",
    "for each_tuple in f:\n",
    "    v1, vt1 = each_tuple\n",
    "    w1,h1= vt[vt1][0],1-vt[vt1][1]\n",
    "    f_dict_one[int(v1)] = [w1,h1]"
   ]
  },
  {
   "cell_type": "code",
   "execution_count": null,
   "id": "a0f4fb02",
   "metadata": {},
   "outputs": [],
   "source": [
    "# save to dataset \n",
    "f_dict_one = dict(sorted(f_dict_one.items(), key=lambda item: item[0]))\n",
    "import json\n",
    "with open(\"./mesh2tex.json\",'w') as f:\n",
    "    json.dump(f_dict_one,f)"
   ]
  }
 ],
 "metadata": {
  "kernelspec": {
   "display_name": "rignerf",
   "language": "python",
   "name": "rignerf"
  },
  "language_info": {
   "codemirror_mode": {
    "name": "ipython",
    "version": 3
   },
   "file_extension": ".py",
   "mimetype": "text/x-python",
   "name": "python",
   "nbconvert_exporter": "python",
   "pygments_lexer": "ipython3",
   "version": "3.8.15"
  }
 },
 "nbformat": 4,
 "nbformat_minor": 5
}
