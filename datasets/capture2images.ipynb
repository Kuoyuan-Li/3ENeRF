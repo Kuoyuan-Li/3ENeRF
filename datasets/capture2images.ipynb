{
 "cells": [
  {
   "cell_type": "markdown",
   "metadata": {},
   "source": [
    "# Convert raw portrait capture to images"
   ]
  },
  {
   "cell_type": "markdown",
   "metadata": {},
   "source": [
    "## Video requirement\n",
    "The rignerf expects 3 types of videos for each subject under each scene. Each video should be around one minute long. The videos should be in the following format:\n",
    "- In this first video, the subject should maintain still and the camera should move around the subject. \n",
    "- In the second video, the subject should enact a wide range of expressions and speech while trying to keep their head still as the camera is panned around them\n",
    "- In the third video, the subject should make a variety of facial expressions and head poses, while the camera should be fixed.\n"
   ]
  },
  {
   "cell_type": "markdown",
   "metadata": {},
   "source": [
    "## Declare constants"
   ]
  },
  {
   "cell_type": "code",
   "execution_count": 1,
   "metadata": {},
   "outputs": [],
   "source": [
    "capture_name = 'tianyu_home'\n",
    "downscale_size = 512\n",
    "target_frames_per_video_1 = 700\n",
    "target_frames_per_video_2 = 1500\n",
    "target_frames_per_video_3 = 1500\n",
    "LAPLACIAN_THRESHOLD = 20\n",
    "flip = True"
   ]
  },
  {
   "cell_type": "code",
   "execution_count": 2,
   "metadata": {},
   "outputs": [],
   "source": [
    "import os\n",
    "root_dir = os.path.join('./',capture_name)\n",
    "video_path = os.path.join(root_dir, 'videos')\n",
    "video_path_1 = os.path.join(video_path, 'capture1.MOV')\n",
    "video_path_2 = os.path.join(video_path, 'capture2.MOV')\n",
    "video_path_3 = os.path.join(video_path, 'capture3.MOV')\n",
    "rgb_dir = os.path.join(root_dir, 'rgb')\n",
    "raw_rgb_dir = os.path.join(rgb_dir, '1x')\n",
    "rgb_ds_dir = os.path.join(rgb_dir, 'ds'.format(downscale_size))"
   ]
  },
  {
   "cell_type": "markdown",
   "metadata": {},
   "source": [
    "## Flatten into images and remove blurry images"
   ]
  },
  {
   "cell_type": "code",
   "execution_count": 3,
   "metadata": {},
   "outputs": [],
   "source": [
    "import cv2\n",
    "import os\n",
    "def flatten_video(video_path, rgb_dir, raw_rgb_dir, rgb_ds_dir, target_frames_per_video, part):\n",
    "    # Create directories\n",
    "    if not os.path.exists(rgb_dir):\n",
    "        os.makedirs(rgb_dir)\n",
    "    if not os.path.exists(raw_rgb_dir):\n",
    "        os.makedirs(raw_rgb_dir)\n",
    "    if not os.path.exists(rgb_ds_dir):\n",
    "        os.makedirs(rgb_ds_dir)\n",
    "    print('Flattening {} to {}'.format(video_path, rgb_dir))\n",
    "    cap = cv2.VideoCapture(str(video_path))\n",
    "    input_fps = cap.get(cv2.CAP_PROP_FPS)\n",
    "    frame_count = int(cap.get(cv2.CAP_PROP_FRAME_COUNT))\n",
    "    if frame_count < target_frames_per_video:\n",
    "        raise RuntimeError('The video is too short and has fewer frames than the target.')\n",
    "    # hyper-parameters\n",
    "\n",
    "    success,image = cap.read()\n",
    "    count = 0\n",
    "    skip = round(frame_count / target_frames_per_video)\n",
    "    skip_count = 0\n",
    "    print('Input FPS: {}'.format(input_fps))\n",
    "    print('Frame count: {}'.format(frame_count))\n",
    "    print('Skip: {}'.format(skip))\n",
    "    blurry_count = 0\n",
    "    while success:\n",
    "        # get frame from video\n",
    "        success,image = cap.read()\n",
    "        if not success:\n",
    "            break\n",
    "        if skip_count < skip:\n",
    "            skip_count += 1\n",
    "            continue\n",
    "        skip_count = 0\n",
    "        if cv2.Laplacian(image, cv2.CV_64F).var() < LAPLACIAN_THRESHOLD: # check if image is blurry, if so, skip this frame\n",
    "            blurry_count += 1\n",
    "            continue\n",
    "        height, width = image.shape[:2] \n",
    "        new_height, new_width = min(height, width), min(height, width)\n",
    "        if flip:\n",
    "            image = cv2.flip(image, -1)\n",
    "        # crop image to square\n",
    "        image = image[(height-new_height)//2:(height-new_height)//2+new_height, (width-new_width)//2:(width-new_width)//2+new_width]\n",
    "        image_resize = cv2.resize(image, (downscale_size, downscale_size), interpolation = cv2.INTER_AREA)\n",
    "        if part == 1:\n",
    "            cv2.imwrite(os.path.join(raw_rgb_dir,f\"p1_{count:06d}.png\"),image)     # save frame as png file     \n",
    "            cv2.imwrite(os.path.join(rgb_ds_dir,f\"p1_{count:06d}.png\"),image_resize)   # save frame as png file      \n",
    "        elif part == 2:\n",
    "            cv2.imwrite(os.path.join(raw_rgb_dir,f\"p2_{count:06d}.png\"),image)     # save frame as png file     \n",
    "            cv2.imwrite(os.path.join(rgb_ds_dir,f\"p2_{count:06d}.png\"),image_resize)   # save frame as png file \n",
    "        elif part == 3:\n",
    "            cv2.imwrite(os.path.join(raw_rgb_dir,f\"p3_{count:06d}.png\"),image)\n",
    "            cv2.imwrite(os.path.join(rgb_ds_dir,f\"p3_{count:06d}.png\"),image_resize)\n",
    "        count += 1\n",
    "    print('Failed to read a frame, current count =', count)\n",
    "    print('Blurry count: {}'.format(blurry_count))\n"
   ]
  },
  {
   "cell_type": "code",
   "execution_count": 4,
   "metadata": {},
   "outputs": [
    {
     "name": "stdout",
     "output_type": "stream",
     "text": [
      "Flattening ./tianyu_home/videos/capture1.MOV to ./tianyu_home/rgb\n",
      "Input FPS: 29.97351816131036\n",
      "Frame count: 1528\n",
      "Skip: 2\n",
      "Failed to read a frame, current count = 508\n",
      "Blurry count: 1\n",
      "Flattening ./tianyu_home/videos/capture2.MOV to ./tianyu_home/rgb\n",
      "Input FPS: 29.758372191606615\n",
      "Frame count: 1521\n",
      "Skip: 1\n",
      "Failed to read a frame, current count = 751\n",
      "Blurry count: 4\n",
      "Flattening ./tianyu_home/videos/capture3.MOV to ./tianyu_home/rgb\n",
      "Input FPS: 29.973409493795547\n",
      "Frame count: 2029\n",
      "Skip: 1\n",
      "Failed to read a frame, current count = 1014\n",
      "Blurry count: 0\n"
     ]
    }
   ],
   "source": [
    "# process three videos\n",
    "flatten_video(video_path_1, rgb_dir, raw_rgb_dir, rgb_ds_dir, target_frames_per_video_1, 1)\n",
    "flatten_video(video_path_2, rgb_dir, raw_rgb_dir, rgb_ds_dir, target_frames_per_video_2, 2)\n",
    "flatten_video(video_path_3, rgb_dir, raw_rgb_dir, rgb_ds_dir, target_frames_per_video_3, 3)"
   ]
  },
  {
   "cell_type": "code",
   "execution_count": 16,
   "metadata": {},
   "outputs": [
    {
     "data": {
      "text/plain": [
       "set()"
      ]
     },
     "execution_count": 16,
     "metadata": {},
     "output_type": "execute_result"
    }
   ],
   "source": [
    "set(os.listdir(rgb_ds_dir)).difference(set(os.listdir(raw_rgb_dir)))"
   ]
  },
  {
   "cell_type": "code",
   "execution_count": 17,
   "metadata": {},
   "outputs": [
    {
     "data": {
      "text/plain": [
       "set()"
      ]
     },
     "execution_count": 17,
     "metadata": {},
     "output_type": "execute_result"
    }
   ],
   "source": [
    "set(os.listdir(raw_rgb_dir)).difference(set(os.listdir(rgb_ds_dir)))"
   ]
  }
 ],
 "metadata": {
  "kernelspec": {
   "display_name": "Python 3 (ipykernel)",
   "language": "python",
   "name": "python3"
  },
  "language_info": {
   "codemirror_mode": {
    "name": "ipython",
    "version": 3
   },
   "file_extension": ".py",
   "mimetype": "text/x-python",
   "name": "python",
   "nbconvert_exporter": "python",
   "pygments_lexer": "ipython3",
   "version": "3.9.7"
  },
  "vscode": {
   "interpreter": {
    "hash": "b604ec56d1682535f9decf9c424b66dc3120accac6d89cb986853cb380f8a74d"
   }
  }
 },
 "nbformat": 4,
 "nbformat_minor": 2
}
